{
 "cells": [
  {
   "cell_type": "code",
   "execution_count": 8,
   "id": "5f83ebd4-ed5e-4eac-91ad-6254dc0edd40",
   "metadata": {},
   "outputs": [
    {
     "name": "stdout",
     "output_type": "stream",
     "text": [
      "Overwriting app.py\n"
     ]
    }
   ],
   "source": [
    "%%writefile app.py\n",
    "# Import Libraries\n",
    "\n",
    "import streamlit as st\n",
    "import pandas as pd\n",
    "import numpy as np\n",
    "import seaborn as sns\n",
    "import matplotlib.pyplot as plt\n",
    "from sklearn.cluster import KMeans\n",
    "from yellowbrick.cluster import KElbowVisualizer,SilhouetteVisualizer\n",
    "from sklearn.metrics import silhouette_score\n",
    "from sklearn.preprocessing import StandardScaler\n",
    "from sklearn.decomposition import PCA\n",
    "import pickle\n",
    "\n",
    "import warnings\n",
    "warnings.filterwarnings('ignore')\n",
    "\n",
    "# LOAD THE INSTANCES\n",
    "with open('final_model.pkl','rb') as file:\n",
    "    model = pickle.load(file)\n",
    "with open('scaled_model.pkl','rb') as file:\n",
    "    scaling = pickle.load(file)\n",
    "with open('pca_model.pkl','rb') as file:\n",
    "    pca = pickle.load(file)\n",
    "\n",
    "\n",
    "def prediction(input_data):\n",
    "    scaled_data = scaling.transform(input_data)\n",
    "    pca_data = pca.transform(scaled_data)\n",
    "    prdictions = model.predict(pca_data)[0]\n",
    "    if pred ==0:\n",
    "        return 'Under Developed'\n",
    "    elif pred==1:\n",
    "        return 'Developing'\n",
    "    else:\n",
    "        return 'Developed'\n",
    "\n",
    "\n",
    "def main():\n",
    "    st.title('Help International Foundation')\n",
    "    st.subheader('This application will give the status of the country based on socio-economic factors')\n",
    "    child_mort = st.text_input('Enter the child_mort rate')\t\n",
    "    exports = st.text_input('Enter the exports %GDP')\n",
    "    health = st.text_input('Enter the Expenditure on health, Total health spending per capita. Given as %age of GDP per capita')\n",
    "    imports = st.text_input('Enter the imports  %GDP, Imports of goods and services per capita. Given as %age of the GDP per capita')\n",
    "    income = st.text_input('Enter the averae income per person, Net income per person')\n",
    "    inflation = st.text_input('Enter the inflation, The measurement of the annual growth rate of the Total GDP')\n",
    "    life_expec = st.text_input('Enter the life_expec rate,The average number of years a new born child would live if the current mortality patterns are to remain the same')\n",
    "    total_fer = st.text_input('Enter the total_fer rate, The number of children that would be born to each woman if the current age-fertility rates remain the same.')\n",
    "    gdpp = st.text_input('Enter the gdpp, The GDP per capita. Calculated as the Total GDP divided by the total population.')\n",
    "\n",
    "    input_list = ['child_mort','exports','health','imports','income','inflation','life_expec','total_fer','gdpp']\n",
    "\n",
    "    if st.button('Predict'):\n",
    "        response = prediction(input_data=input_list)\n",
    "        st.success(response)\n",
    "\n",
    "if __name__ == '__main__':\n",
    "    main()"
   ]
  },
  {
   "cell_type": "code",
   "execution_count": null,
   "id": "afe9a509-64ad-4045-bdc3-2e82138a9a46",
   "metadata": {},
   "outputs": [],
   "source": []
  }
 ],
 "metadata": {
  "kernelspec": {
   "display_name": "Python 3 (ipykernel)",
   "language": "python",
   "name": "python3"
  },
  "language_info": {
   "codemirror_mode": {
    "name": "ipython",
    "version": 3
   },
   "file_extension": ".py",
   "mimetype": "text/x-python",
   "name": "python",
   "nbconvert_exporter": "python",
   "pygments_lexer": "ipython3",
   "version": "3.11.7"
  },
  "widgets": {
   "application/vnd.jupyter.widget-state+json": {
    "state": {},
    "version_major": 2,
    "version_minor": 0
   }
  }
 },
 "nbformat": 4,
 "nbformat_minor": 5
}
